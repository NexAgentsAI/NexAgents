{
 "cells": [
  {
   "cell_type": "markdown",
   "metadata": {},
   "source": [
    "# Component config\n",
    "\n",
    "AutoGen components are able to be declaratively configured in a generic fashion. This is to support configuration based experiences, such as AutoGen studio, but it is also useful for many other scenarios.\n",
    "\n",
    "The system that provides this is called \"component configuration\". In AutoGen, a component is simply something that can be created from a config object and itself can be dumped to a config object. In this way, you can define a component in code and then get the config object from it.\n",
    "\n",
    "This system is generic and allows for components defined outside of AutoGen itself (such as extensions) to be configured in the same way.\n",
    "\n",
    "## How does this differ from state?\n",
    "\n",
    "This is a very important point to clarify. When we talk about serializing an object, we must include *all* data that makes that object itself. Including things like message history etc. When deserializing from serialized state, you must get back the *exact* same object. This is not the case with component configuration.\n",
    "\n",
    "Component configuration should be thought of as the blueprint for an object, and can be stamped out many times to create many instances of the same configured object.\n",
    "\n",
    "## Usage\n",
    "\n",
    "If you have a component in Python ad want to get the config for it, simply call {py:meth}`~autogen_core.ComponentConfig.dump_component` on it. The resulting object can be passed back into {py:meth}`~autogen_core.ComponentLoader.load_component` to get the component back.\n",
    "\n",
    "## Creating a component\n",
    "\n",
    "To add component functionality to a given class:\n",
    "\n",
    "1. Add a call to {py:meth}`~autogen_core.Component` in the class inheritance list.\n",
    "2. Implment the {py:meth}`~autogen_core.ComponentConfigImpl._to_config` and {py:meth}`~autogen_core.ComponentConfigImpl._from_config` methods\n",
    "\n",
    "For example:\n",
    "\n",
    "```python\n",
    "from pydantic import BaseModel\n",
    "from autogen_core import Component\n",
    "\n",
    "class Config(BaseModel):\n",
    "    value: str\n",
    "\n",
    "class MyComponent(Component(\"custom\", Config)):\n",
    "    def __init__(self, value: str):\n",
    "        self.value = value\n",
    "\n",
    "    def _to_config(self) -> Config:\n",
    "        return Config(value=self.value)\n",
    "\n",
    "    @classmethod\n",
    "    def _from_config(cls, config: Config) -> MyComponent:\n",
    "        return cls(value=config.value)\n",
    "```\n"
   ]
  }
 ],
 "metadata": {
  "language_info": {
   "name": "python"
  }
 },
 "nbformat": 4,
 "nbformat_minor": 2
}
