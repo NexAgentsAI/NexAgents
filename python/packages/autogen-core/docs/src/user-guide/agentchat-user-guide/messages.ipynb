{
 "cells": [
  {
   "cell_type": "markdown",
   "metadata": {},
   "source": [
    "# Messages"
   ]
  },
  {
   "cell_type": "markdown",
   "metadata": {},
   "source": [
    "In AutoGen, _messages_ facilitate communication and information exchange with other agents, orchestrators, and applications. AgentChat supports various message types, each designed for specific purposes."
   ]
  },
  {
   "cell_type": "markdown",
   "metadata": {},
   "source": [
    "## Types of Messages\n",
    "\n",
    "At a high level, messages in AgentChat can be categorized into two types: agent-agent messages and internal events and messages.\n",
    "\n",
    "### Agent-Agent Messages\n",
    "AgentChat supports many message types for agent-to-agent communication. The most common ones is the {py:class}`~autogen_agentchat.messages.ChatMessage`. This message type allows both text and multimodal communication. This message type subsumes other message types, such as {py:class}`~autogen_agentchat.messages.TextMessage` or {py:class}`~autogen_agentchat.messages.MultiModalMessage`.\n",
    "\n",
    "For example, the following code snippet demonstrates how to create a text message, which accepts a string content and a string source:\n",
    "\n",
    "```python\n",
    "from autogen_agentchat.messages import TextMessage\n",
    "\n",
    "message = TextMessage(content=\"Hello, world!\", source=\"User\")\n",
    "\n",
    "```\n",
    "\n",
    "Similarly, the following code snippet demonstrates how to create a multimodal message, which accepts\n",
    "a list of strings or {py:class}`~autogen_core.Image` objects:\n",
    "\n",
    "```python\n",
    "from autogen_agentchat.messages import MultiModalMessage\n",
    "from autogen_core import Image\n",
    "\n",
    "img = Image(\"path/to/image.png\")\n",
    "message = MultiModalMessage(content=[\"Hello, world!\", img)], source=\"User\")\n",
    "\n",
    "```\n",
    "\n",
    "### Internal Events and Messages\n",
    "Similarly, it support many message types for an agent's internal events and messages. These include {py:class}`~autogen_agentchat.messages.ToolCallMessage`, which is used to call tools, and {py:class}`~autogen_agentchat.messages.ToolCallResultMessage`, which contains the results of tool calls.\n",
    "\n",
    "For instance, suppose you want to call a tool with the name \"tool_name\" and the arguments \"arg1\" and \"arg2\". You can create a {py:class}`~autogen_agentchat.messages.ToolCallMessage` as follows:\n",
    "\n",
    "```python\n",
    "from autogen_agentchat.messages import ToolCallMessage\n",
    "\n",
    "# Represents that function with the name \"foo\" is called with arguments \"arg1\" and \"arg2\"\n",
    "function_call = FunctionCall(id='some_id', arguments='{\"arg1\":\"arg1\", \"arg2\": \"arg2\"}', name='foo')]\n",
    "message = ToolCallMessage(content=[function_call], source=\"User\")\n",
    "\n",
    "```\n",
    "\n",
    "\n",
    "You can read about the full set of messages in the {py:mod}`~autogen_agentchat.messages` module.\n",
    "\n",
    "Note that you might see other \"message\" types in the core, especially when dealing with model clients. Those message types (e.g., {py:class}`~autogen_core.components.models.UserMessage` or {py:class}`~autogen_core.components.models.SystemMessage`) are meant for invoking (LLM) model clients.\n"
   ]
  }
 ],
 "metadata": {
  "language_info": {
   "name": "python"
  }
 },
 "nbformat": 4,
 "nbformat_minor": 2
}