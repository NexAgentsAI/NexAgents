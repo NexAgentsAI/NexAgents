{
 "cells": [
  {
   "cell_type": "markdown",
   "metadata": {},
   "source": [
    "# Agent Messages"
   ]
  },
  {
   "cell_type": "markdown",
   "metadata": {},
   "source": [
    "During an agent's lifecycle, messages facilitate communication with other agents, orchestrators, and applications. AgentChat supports various message types, each designed for specific purposes."
   ]
  },
  {
   "cell_type": "markdown",
   "metadata": {},
   "source": [
    "## Types of Messages\n",
    "\n",
    "**Agent-Agent Messages**\n",
    "- **ChatMessage**: Used for agent-to-agent communication. Examples include TextMessage, which contains text for straightforward communication; MultiModalMessage, which can include text, images, or other media; AgentMessage, a superset of TextMessage and MultiModalMessage, allowing for more complex communication; and HandoffMessage, which is used to transfer a conversation to another agent.\n",
    "\n",
    "**Internal Events and Messages**\n",
    "As an agent interacts with other agents, orchestrators, and applications, it generates internal events and messages. These can include:\n",
    "- **ToolCallMessage**: Includes a list of tools to invoke.\n",
    "- **ToolCallResultMessage**: Contains results from tool calls.\n",
    "\n",
    "Additionally, there are other message types in the core that you might encounter. These are used for interacting with LLM models such as OpenAI's GPT-4: **UserMessage**, which represents a message from a user; **SystemMessage**, which represents a system-generated message; and **AssistantMessage**, which represents a message from an assistant.\n"
   ]
  },
  {
   "cell_type": "markdown",
   "metadata": {},
   "source": []
  }
 ],
 "metadata": {
  "language_info": {
   "name": "python"
  }
 },
 "nbformat": 4,
 "nbformat_minor": 2
}
