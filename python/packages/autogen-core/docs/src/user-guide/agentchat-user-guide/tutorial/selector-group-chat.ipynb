{
 "cells": [
  {
   "cell_type": "markdown",
   "metadata": {},
   "source": [
    "# Selector Group Chat"
   ]
  },
  {
   "cell_type": "markdown",
   "metadata": {},
   "source": [
    "{py:class}`~autogen_agentchat.teams.SelectorGroupChat` implements a team where participants take turns broadcasting messages to all other participants,\n",
    "with the next speaker selected by a generative model (e.g., an LLM) based on the shared context. \n",
    "This enables dynamic and context-aware multi-agent collaboration.\n",
    "\n",
    "{py:class}`~autogen_agentchat.teams.SelectorGroupChat` provides several key features:\n",
    "- Model-based speaker selection\n",
    "- Configurable participant roles and descriptions\n",
    "- Optional prevention of consecutive turns by the same speaker\n",
    "- Customizable selection prompting\n",
    "- Customizable selection function to override the default model-based selection\n",
    "\n",
    "## How does it work?\n",
    "\n",
    "{py:class}`~autogen_agentchat.teams.SelectorGroupChat` is a group chat similar to {py:class}`~autogen_agentchat.teams.RoundRobinGroupChat`,\n",
    "but with a model-based next speaker selection mechanism.\n",
    "When the team receives a task through {py:meth}`~autogen_agentchat.teams.BaseGroupChat.run` or {py:meth}`~autogen_agentchat.teams.BaseGroupChat.run_stream`,\n",
    "the following steps are executed:\n",
    "\n",
    "1. The team analyzes the current conversation context, including the conversation history and participants' {py:attr}`~autogen_agentchat.base.ChatAgent.name` and {py:attr}`~autogen_agentchat.base.ChatAgent.description` attributes, to determine the next speaker using a model.\n",
    "2. The team prompts the selected speaker agent to provide a response, which is then broadcast to all other participants.\n",
    "3. The termination condition is checked to determine if the conversation should end, if not, the process repeats from step 1.\n",
    "4. When the conversation ends, the team returns the {py:class}`~autogen_agentchat.base.TaskResult` containing the conversation history from this task.\n",
    "\n",
    "Once the team finishes the task, the conversation context is kept within the team and all participants, so the next task can continue from the previous conversation context.\n",
    "You can reset the conversation context by calling {py:meth}`~autogen_agentchat.teams.BaseGroupChat.reset`."
   ]
  },
  {
   "cell_type": "markdown",
   "metadata": {},
   "source": [
    "## Task with Analysis Example"
   ]
  },
  {
   "cell_type": "code",
   "execution_count": 2,
   "metadata": {},
   "outputs": [],
   "source": [
    "from autogen_agentchat.agents import AssistantAgent\n",
    "from autogen_agentchat.task import Console, MaxMessageTermination, TextMentionTermination\n",
    "from autogen_agentchat.teams import SelectorGroupChat\n",
    "from autogen_ext.models import OpenAIChatCompletionClient"
   ]
  },
  {
   "cell_type": "markdown",
   "metadata": {},
   "source": [
    "### Agents\n",
    "\n",
    "![Selector Group Chat](selector_group_chat.svg)\n",
    "\n",
    "This system uses four specialized agents:\n",
    "\n",
    "- **Planning Agent**: The strategic coordinator that breaks down complex tasks into manageable subtasks. \n",
    "\n",
    "- **Web Search Agent**: An information retrieval specialist that interfaces with the `search_web_tool`.\n",
    "  \n",
    "- **Data Analyst Agent**: An agent specialist in performing calculations equipped with `percentage_change_tool`. \n",
    "\n",
    "- **SelectorGroupChat Manager/Agent**: This one is not defined by the user, but is provided by the `SelectorGroupChat` class and orchestrates the conversation by selecting the next agent to handle the task."
   ]
  },
  {
   "cell_type": "code",
   "execution_count": 3,
   "metadata": {},
   "outputs": [],
   "source": [
    "# Note: This example uses mock tools instead of real APIs for demonstration purposes\n",
    "def search_web_tool(query: str) -> str:\n",
    "    if \"2006-2007\" in query:\n",
    "        return \"\"\"Here are the total points scored by Miami Heat players in the 2006-2007 season:\n",
    "        Udonis Haslem: 844 points\n",
    "        Dwayne Wade: 1397 points\n",
    "        James Posey: 550 points\n",
    "        ...\n",
    "        \"\"\"\n",
    "    elif \"2007-2008\" in query:\n",
    "        return \"The number of total rebounds for Dwayne Wade in the Miami Heat season 2007-2008 is 214.\"\n",
    "    elif \"2008-2009\" in query:\n",
    "        return \"The number of total rebounds for Dwayne Wade in the Miami Heat season 2008-2009 is 398.\"\n",
    "    return \"No data found.\"\n",
    "\n",
    "\n",
    "def percentage_change_tool(start: float, end: float) -> float:\n",
    "    return ((end - start) / start) * 100"
   ]
  },
  {
   "cell_type": "code",
   "execution_count": 8,
   "metadata": {},
   "outputs": [],
   "source": [
    "model_client = OpenAIChatCompletionClient(model=\"gpt-4o\")\n",
    "\n",
    "planning_agent = AssistantAgent(\n",
    "    \"PlanningAgent\",\n",
    "    description=\"An agent for planning tasks, this agent should be the first to engage when given a new task.\",\n",
    "    model_client=model_client,\n",
    "    system_message=\"\"\"\n",
    "    You are a planning agent.\n",
    "    Your job is to break down complex tasks into smaller, manageable subtasks.\n",
    "    Your team members are:\n",
    "        Web search agent: Searches for information\n",
    "        Data analyst: Performs calculations\n",
    "\n",
    "    You only plan and delegate tasks - you do not execute them yourself.\n",
    "\n",
    "    When assigning tasks, use this format:\n",
    "    <agent> : <task>\n",
    "\n",
    "    After all tasks are complete, summarize the findings and end with \"TERMINATE\".\n",
    "    \"\"\",\n",
    ")\n",
    "\n",
    "web_search_agent = AssistantAgent(\n",
    "    \"WebSearchAgent\",\n",
    "    description=\"A web search agent.\",\n",
    "    tools=[search_web_tool],\n",
    "    model_client=model_client,\n",
    "    system_message=\"\"\"\n",
    "    You are a web search agent.\n",
    "    Your only tool is search_tool - use it to find information.\n",
    "    You make only one search call at a time.\n",
    "    Once you have the results, you never do calculations based on them.\n",
    "    \"\"\",\n",
    ")\n",
    "\n",
    "data_analyst_agent = AssistantAgent(\n",
    "    \"DataAnalystAgent\",\n",
    "    description=\"A data analyst agent. Useful for performing calculations.\",\n",
    "    model_client=model_client,\n",
    "    tools=[percentage_change_tool],\n",
    "    system_message=\"\"\"\n",
    "    You are a data analyst.\n",
    "    Given the tasks you have been assigned, you should analyze the data and provide results using the tools provided.\n",
    "    \"\"\",\n",
    ")"
   ]
  },
  {
   "cell_type": "markdown",
   "metadata": {},
   "source": [
    "### Workflow:\n",
    "1. The task is received by the `SelectorGroupChat` manager which, based on agent descriptions, selects the most appropriate agent to handle the initial task (typically the Planning Agent).\n",
    "\n",
    "2. The **Planning Agent** analyzes the task and breaks it down into subtasks, assigning each to the most appropriate agent using the format:\n",
    "   `<agent> : <task>`\n",
    "\n",
    "3. Based on the conversation context and agent descriptions, the `SelectorGroupChat` manager dynamically selects the next agent to handle their assigned subtask.\n",
    "\n",
    "4. The **Web Search Agent** performs searches one at a time, storing results in the shared conversation history.\n",
    "\n",
    "5. The **Data Analyst** processes the gathered information using available calculation tools when selected.\n",
    "\n",
    "6. The workflow continues with agents being dynamically selected until either:\n",
    "   - The Planning Agent determines all subtasks are complete and sends \"TERMINATE\"\n",
    "   - An alternative termination condition is met (e.g., a maximum number of messages)\n",
    "\n",
    "When defining your agents, make sure to include a helpful `description` since this is used by the `SelectorGroupChat` manager to decide which agent to select next."
   ]
  },
  {
   "cell_type": "code",
   "execution_count": 9,
   "metadata": {},
   "outputs": [
    {
     "name": "stdout",
     "output_type": "stream",
     "text": [
      "---------- user ----------\n",
      "\n",
      "Who was the Miami Heat player with the highest points in the 2006-2007 season, \n",
      "and what was the percentage change in his total rebounds between the 2007-2008 and 2008-2009 seasons?\n",
      "---------- WebSearchAgent ----------\n",
      "[FunctionCall(id='call_OwFkl5G65FQq052rDcMNE3aA', arguments='{\"query\": \"Miami Heat highest points scorer 2006-2007 season\"}', name='search_web_tool'), FunctionCall(id='call_qBrob8LwNP4hvPgiH0Dfjvvv', arguments='{\"query\": \"Miami Heat player percentage change total rebounds 2007-2008 to 2008-2009\"}', name='search_web_tool')]\n",
      "[Prompt tokens: 144, Completion tokens: 76]\n",
      "---------- WebSearchAgent ----------\n",
      "[FunctionExecutionResult(content='Here are the total points scored by Miami Heat players in the 2006-2007 season:\\n        Udonis Haslem: 844 points\\n        Dwayne Wade: 1397 points\\n        James Posey: 550 points\\n        ...\\n        ', call_id='call_OwFkl5G65FQq052rDcMNE3aA'), FunctionExecutionResult(content='The number of total rebounds for Dwayne Wade in the Miami Heat season 2007-2008 is 214.', call_id='call_qBrob8LwNP4hvPgiH0Dfjvvv')]\n",
      "---------- WebSearchAgent ----------\n",
      "Dwyane Wade was the Miami Heat player with the highest points in the 2006-2007 season, scoring 1,397 points. I couldn't find the information about the percentage change in his total rebounds between the 2007-2008 and 2008-2009 seasons. Would you like to search for something else?\n",
      "[Prompt tokens: 318, Completion tokens: 70]\n",
      "---------- DataAnalystAgent ----------\n",
      "To calculate the percentage change in Dwyane Wade's total rebounds between the 2007-2008 and 2008-2009 seasons, I need the total rebound figures for those seasons. Please provide those figures so I can perform the calculation for you.\n",
      "[Prompt tokens: 211, Completion tokens: 54]\n",
      "---------- PlanningAgent ----------\n",
      "Web search agent: Search for Dwyane Wade's total rebounds in the 2007-2008 and 2008-2009 NBA seasons.\n",
      "[Prompt tokens: 299, Completion tokens: 31]\n",
      "---------- WebSearchAgent ----------\n",
      "[FunctionCall(id='call_oGwI93fkep0cwmPgzOzAmtY5', arguments='{\"query\": \"Dwyane Wade total rebounds 2007-2008 season\"}', name='search_web_tool'), FunctionCall(id='call_jWPCo4FbfAQf8FdG2jd6T705', arguments='{\"query\": \"Dwyane Wade total rebounds 2008-2009 season\"}', name='search_web_tool')]\n",
      "[Prompt tokens: 495, Completion tokens: 70]\n",
      "---------- WebSearchAgent ----------\n",
      "[FunctionExecutionResult(content='The number of total rebounds for Dwayne Wade in the Miami Heat season 2007-2008 is 214.', call_id='call_oGwI93fkep0cwmPgzOzAmtY5'), FunctionExecutionResult(content='The number of total rebounds for Dwayne Wade in the Miami Heat season 2008-2009 is 398.', call_id='call_jWPCo4FbfAQf8FdG2jd6T705')]\n",
      "---------- WebSearchAgent ----------\n",
      "Dwyane Wade had 214 total rebounds in the 2007-2008 season and 398 total rebounds in the 2008-2009 season. Now you can calculate the percentage change based on these figures.\n",
      "[Prompt tokens: 630, Completion tokens: 46]\n",
      "---------- DataAnalystAgent ----------\n",
      "[FunctionCall(id='call_mh1uhYeIfX4uHhyBXDrqH3v6', arguments='{\"start\":214,\"end\":398}', name='percentage_change_tool')]\n",
      "[Prompt tokens: 364, Completion tokens: 20]\n",
      "---------- DataAnalystAgent ----------\n",
      "[FunctionExecutionResult(content='85.98130841121495', call_id='call_mh1uhYeIfX4uHhyBXDrqH3v6')]\n",
      "---------- DataAnalystAgent ----------\n",
      "The percentage change in Dwyane Wade's total rebounds between the 2007-2008 and 2008-2009 seasons was approximately 85.98%.\n",
      "[Prompt tokens: 405, Completion tokens: 35]\n",
      "---------- PlanningAgent ----------\n",
      "Dwyane Wade was the Miami Heat player with the highest points in the 2006-2007 season, scoring 1,397 points. The percentage change in his total rebounds between the 2007-2008 season and the 2008-2009 season was approximately 85.98%.\n",
      "\n",
      "TERMINATE\n",
      "[Prompt tokens: 433, Completion tokens: 65]\n",
      "---------- Summary ----------\n",
      "Number of messages: 13\n",
      "Finish reason: Text 'TERMINATE' mentioned\n",
      "Total prompt tokens: 3299\n",
      "Total completion tokens: 467\n",
      "Duration: 18.18 seconds\n"
     ]
    },
    {
     "data": {
      "text/plain": [
       "TaskResult(messages=[TextMessage(source='user', models_usage=None, content='\\nWho was the Miami Heat player with the highest points in the 2006-2007 season, \\nand what was the percentage change in his total rebounds between the 2007-2008 and 2008-2009 seasons?'), ToolCallMessage(source='WebSearchAgent', models_usage=RequestUsage(prompt_tokens=144, completion_tokens=76), content=[FunctionCall(id='call_OwFkl5G65FQq052rDcMNE3aA', arguments='{\"query\": \"Miami Heat highest points scorer 2006-2007 season\"}', name='search_web_tool'), FunctionCall(id='call_qBrob8LwNP4hvPgiH0Dfjvvv', arguments='{\"query\": \"Miami Heat player percentage change total rebounds 2007-2008 to 2008-2009\"}', name='search_web_tool')]), ToolCallResultMessage(source='WebSearchAgent', models_usage=None, content=[FunctionExecutionResult(content='Here are the total points scored by Miami Heat players in the 2006-2007 season:\\n        Udonis Haslem: 844 points\\n        Dwayne Wade: 1397 points\\n        James Posey: 550 points\\n        ...\\n        ', call_id='call_OwFkl5G65FQq052rDcMNE3aA'), FunctionExecutionResult(content='The number of total rebounds for Dwayne Wade in the Miami Heat season 2007-2008 is 214.', call_id='call_qBrob8LwNP4hvPgiH0Dfjvvv')]), TextMessage(source='WebSearchAgent', models_usage=RequestUsage(prompt_tokens=318, completion_tokens=70), content=\"Dwyane Wade was the Miami Heat player with the highest points in the 2006-2007 season, scoring 1,397 points. I couldn't find the information about the percentage change in his total rebounds between the 2007-2008 and 2008-2009 seasons. Would you like to search for something else?\"), TextMessage(source='DataAnalystAgent', models_usage=RequestUsage(prompt_tokens=211, completion_tokens=54), content=\"To calculate the percentage change in Dwyane Wade's total rebounds between the 2007-2008 and 2008-2009 seasons, I need the total rebound figures for those seasons. Please provide those figures so I can perform the calculation for you.\"), TextMessage(source='PlanningAgent', models_usage=RequestUsage(prompt_tokens=299, completion_tokens=31), content=\"Web search agent: Search for Dwyane Wade's total rebounds in the 2007-2008 and 2008-2009 NBA seasons.\"), ToolCallMessage(source='WebSearchAgent', models_usage=RequestUsage(prompt_tokens=495, completion_tokens=70), content=[FunctionCall(id='call_oGwI93fkep0cwmPgzOzAmtY5', arguments='{\"query\": \"Dwyane Wade total rebounds 2007-2008 season\"}', name='search_web_tool'), FunctionCall(id='call_jWPCo4FbfAQf8FdG2jd6T705', arguments='{\"query\": \"Dwyane Wade total rebounds 2008-2009 season\"}', name='search_web_tool')]), ToolCallResultMessage(source='WebSearchAgent', models_usage=None, content=[FunctionExecutionResult(content='The number of total rebounds for Dwayne Wade in the Miami Heat season 2007-2008 is 214.', call_id='call_oGwI93fkep0cwmPgzOzAmtY5'), FunctionExecutionResult(content='The number of total rebounds for Dwayne Wade in the Miami Heat season 2008-2009 is 398.', call_id='call_jWPCo4FbfAQf8FdG2jd6T705')]), TextMessage(source='WebSearchAgent', models_usage=RequestUsage(prompt_tokens=630, completion_tokens=46), content='Dwyane Wade had 214 total rebounds in the 2007-2008 season and 398 total rebounds in the 2008-2009 season. Now you can calculate the percentage change based on these figures.'), ToolCallMessage(source='DataAnalystAgent', models_usage=RequestUsage(prompt_tokens=364, completion_tokens=20), content=[FunctionCall(id='call_mh1uhYeIfX4uHhyBXDrqH3v6', arguments='{\"start\":214,\"end\":398}', name='percentage_change_tool')]), ToolCallResultMessage(source='DataAnalystAgent', models_usage=None, content=[FunctionExecutionResult(content='85.98130841121495', call_id='call_mh1uhYeIfX4uHhyBXDrqH3v6')]), TextMessage(source='DataAnalystAgent', models_usage=RequestUsage(prompt_tokens=405, completion_tokens=35), content=\"The percentage change in Dwyane Wade's total rebounds between the 2007-2008 and 2008-2009 seasons was approximately 85.98%.\"), TextMessage(source='PlanningAgent', models_usage=RequestUsage(prompt_tokens=433, completion_tokens=65), content='Dwyane Wade was the Miami Heat player with the highest points in the 2006-2007 season, scoring 1,397 points. The percentage change in his total rebounds between the 2007-2008 season and the 2008-2009 season was approximately 85.98%.\\n\\nTERMINATE')], stop_reason=\"Text 'TERMINATE' mentioned\")"
      ]
     },
     "execution_count": 9,
     "metadata": {},
     "output_type": "execute_result"
    }
   ],
   "source": [
    "text_mention_termination = TextMentionTermination(\"TERMINATE\")\n",
    "max_messages_termination = MaxMessageTermination(max_messages=25)\n",
    "termination = text_mention_termination | max_messages_termination\n",
    "\n",
    "\n",
    "team = SelectorGroupChat(\n",
    "    [planning_agent, web_search_agent, data_analyst_agent],\n",
    "    model_client=OpenAIChatCompletionClient(model=\"gpt-4o-mini\"),\n",
    "    termination_condition=termination,\n",
    ")\n",
    "\n",
    "task = \"Who was the Miami Heat player with the highest points in the 2006-2007 season, and what was the percentage change in his total rebounds between the 2007-2008 and 2008-2009 seasons?\"\n",
    "\n",
    "await Console(team.run_stream(task=task))"
   ]
  },
  {
   "cell_type": "markdown",
   "metadata": {},
   "source": [
    "As we can see, after the Web Search Agent conducts the necessary searches and the Data Analyst Agent completes the necessary calculations, we find that Dwayne Wade was the Miami Heat player with the highest points in the 2006-2007 season, and the percentage change in his total rebounds between the 2007-2008 and 2008-2009 seasons is 85.98%!"
   ]
  }
 ],
 "metadata": {
  "kernelspec": {
   "display_name": ".venv",
   "language": "python",
   "name": "python3"
  },
  "language_info": {
   "codemirror_mode": {
    "name": "ipython",
    "version": 3
   },
   "file_extension": ".py",
   "mimetype": "text/x-python",
   "name": "python",
   "nbconvert_exporter": "python",
   "pygments_lexer": "ipython3",
   "version": "3.11.5"
  }
 },
 "nbformat": 4,
 "nbformat_minor": 2
}
