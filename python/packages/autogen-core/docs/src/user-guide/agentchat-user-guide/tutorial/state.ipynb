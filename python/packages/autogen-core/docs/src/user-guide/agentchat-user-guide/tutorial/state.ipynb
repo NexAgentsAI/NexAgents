{
 "cells": [
  {
   "cell_type": "markdown",
   "metadata": {},
   "source": [
    "# Loading and Saving State \n",
    "\n",
    "So far, we have discussed how to build components in a multi-agent application - agents, teams, termination conditions. In many cases, it is useful to save the state of these components to disk and load them back later. This is particularly useful in a web application where stateless endpoints respond to requests and need to load the state of the application from persistent storage.\n",
    "\n",
    "In this notebook, we will discuss how to save and load the state of agents, teams, and termination conditions. \n",
    " \n",
    "\n",
    "# Saving and Loading Agents\n",
    "\n",
    "We can get the state of an agent by calling `save_state` method on the agent."
   ]
  },
  {
   "cell_type": "code",
   "execution_count": 1,
   "metadata": {},
   "outputs": [
    {
     "name": "stdout",
     "output_type": "stream",
     "text": [
      "In Tanganyika's depths, whispers of yore,  \n",
      "Cradle of life where waters softly roar,  \n",
      "Infinite horizon, nature's grand encore.  \n"
     ]
    }
   ],
   "source": [
    "from autogen_agentchat.agents import AssistantAgent\n",
    "from autogen_agentchat.task import Console, MaxMessageTermination, TextMentionTermination\n",
    "from autogen_agentchat.teams import RoundRobinGroupChat\n",
    "from autogen_ext.models import OpenAIChatCompletionClient\n",
    "\n",
    "assistant_agent = AssistantAgent(\n",
    "    name=\"assistant_agent\",\n",
    "    system_message=\"You are a helpful assistant\",\n",
    "    model_client=OpenAIChatCompletionClient(\n",
    "        model=\"gpt-4o-2024-08-06\",\n",
    "    ),\n",
    ")\n",
    "\n",
    "result = await assistant_agent.run(task=\"Write a 3 line poem on lake tangayika\")\n",
    "print(result.messages[-1].content)"
   ]
  },
  {
   "cell_type": "code",
   "execution_count": 4,
   "metadata": {},
   "outputs": [
    {
     "name": "stdout",
     "output_type": "stream",
     "text": [
      "AssistantAgentState(state_type='AssistantAgent', version='1.0.0', model_context=[UserMessage(content='Write a 3 line poem on lake tangayika', source='user'), AssistantMessage(content=\"In Tanganyika's depths, whispers of yore,  \\nCradle of life where waters softly roar,  \\nInfinite horizon, nature's grand encore.  \", source='assistant_agent')])\n",
      "{'state_type': 'AssistantAgent', 'version': '1.0.0', 'model_context': [UserMessage(content='Write a 3 line poem on lake tangayika', source='user'), AssistantMessage(content=\"In Tanganyika's depths, whispers of yore,  \\nCradle of life where waters softly roar,  \\nInfinite horizon, nature's grand encore.  \", source='assistant_agent')]}\n"
     ]
    }
   ],
   "source": [
    "agent_state = await assistant_agent.save_state()\n",
    "print(agent_state)\n",
    "# convert to dict/json \n",
    "print(vars(agent_state))"
   ]
  },
  {
   "cell_type": "code",
   "execution_count": 5,
   "metadata": {},
   "outputs": [
    {
     "name": "stdout",
     "output_type": "stream",
     "text": [
      "The last line of the poem is:  \n",
      "\"Infinite horizon, nature's grand encore.\"\n"
     ]
    }
   ],
   "source": [
    "new_assistant_agent = AssistantAgent(\n",
    "    name=\"assistant_agent\",\n",
    "    system_message=\"You are a helpful assistant\",\n",
    "    model_client=OpenAIChatCompletionClient(\n",
    "        model=\"gpt-4o-2024-08-06\",\n",
    "    ),\n",
    ")\n",
    "await new_assistant_agent.load_state(agent_state)\n",
    "result = await new_assistant_agent.run(task=\"What was the last line of the previous poem you wrote\")\n",
    "print(result.messages[-1].content)"
   ]
  },
  {
   "cell_type": "markdown",
   "metadata": {},
   "source": [
    "Note: Agent state mainly consists of the model_context as the agent's state. If your agent has additional state you would like to save and load, consider overriding the `save_state` and `load_state` methods.\n",
    " "
   ]
  },
  {
   "cell_type": "markdown",
   "metadata": {},
   "source": [
    "## Saving and Loading Teams \n",
    "\n",
    "We can get the state of a team by calling `save_state` method on the team and load it back by calling `load_state` method on the team. \n",
    "\n",
    "A team typically is composed of agents and some termination conditions. When we call `save_state` on a team, it saves the state of all the agents in the team and the termination conditions.  \n",
    "\n",
    "We will begin by creating a simple RoundRobinGroupChat team with a single agent and ask it to write a poem. \n"
   ]
  },
  {
   "cell_type": "code",
   "execution_count": 6,
   "metadata": {},
   "outputs": [
    {
     "name": "stdout",
     "output_type": "stream",
     "text": [
      "---------- user ----------\n",
      "Write a beautiful poem 3-line about lake tangayika\n",
      "---------- assistant_agent ----------\n",
      "Whispers of the deep, Tanganyika's embrace,  \n",
      "Mirror of stars and time, in tranquil grace,  \n",
      "Boundless tales within its azure face.  \n",
      "[Prompt tokens: 29, Completion tokens: 32]\n",
      "---------- Summary ----------\n",
      "Number of messages: 2\n",
      "Finish reason: Maximum number of messages 2 reached, current message count: 2\n",
      "Total prompt tokens: 29\n",
      "Total completion tokens: 32\n",
      "Duration: 0.76 seconds\n"
     ]
    }
   ],
   "source": [
    "assistant_agent = AssistantAgent(\n",
    "    name=\"assistant_agent\",\n",
    "    system_message=\"You are a helpful assistant\",\n",
    "    model_client=OpenAIChatCompletionClient(\n",
    "        model=\"gpt-4o-2024-08-06\",\n",
    "    ),\n",
    ")\n",
    "# Define a team\n",
    "agent_team = RoundRobinGroupChat([assistant_agent], termination_condition=MaxMessageTermination(max_messages=2))\n",
    "\n",
    "# Run the team and stream messages to the console\n",
    "stream = agent_team.run_stream(task=\"Write a beautiful poem 3-line about lake tangayika\")\n",
    "await Console(stream)\n",
    "team_state = await agent_team.save_state()"
   ]
  },
  {
   "cell_type": "markdown",
   "metadata": {},
   "source": [
    "If we reset the team (simulating instantiation of the team),  and ask the question `What was the last line of the poem you wrote?`, we see that the team is unable to accomplish this as there is no reference to the previous run."
   ]
  },
  {
   "cell_type": "code",
   "execution_count": 7,
   "metadata": {},
   "outputs": [
    {
     "name": "stdout",
     "output_type": "stream",
     "text": [
      "---------- user ----------\n",
      "What was the last line of the poem you wrote?\n",
      "---------- assistant_agent ----------\n",
      "I'm sorry, but I don't have the ability to recall specific lines from poems I've previously written or discussed since I don't have memory. However, I'd be happy to help you create a new poem or discuss any poetry-related topics you're interested in!\n",
      "[Prompt tokens: 28, Completion tokens: 48]\n",
      "---------- Summary ----------\n",
      "Number of messages: 2\n",
      "Finish reason: Maximum number of messages 2 reached, current message count: 2\n",
      "Total prompt tokens: 28\n",
      "Total completion tokens: 48\n",
      "Duration: 0.84 seconds\n"
     ]
    },
    {
     "data": {
      "text/plain": [
       "TaskResult(messages=[TextMessage(source='user', models_usage=None, content='What was the last line of the poem you wrote?'), TextMessage(source='assistant_agent', models_usage=RequestUsage(prompt_tokens=28, completion_tokens=48), content=\"I'm sorry, but I don't have the ability to recall specific lines from poems I've previously written or discussed since I don't have memory. However, I'd be happy to help you create a new poem or discuss any poetry-related topics you're interested in!\")], stop_reason='Maximum number of messages 2 reached, current message count: 2')"
      ]
     },
     "execution_count": 7,
     "metadata": {},
     "output_type": "execute_result"
    }
   ],
   "source": [
    "await agent_team.reset()\n",
    "stream = agent_team.run_stream(task=\"What was the last line of the poem you wrote?\")\n",
    "await Console(stream)"
   ]
  },
  {
   "cell_type": "markdown",
   "metadata": {},
   "source": [
    "Next, we load the state of the team and ask the same question. We see that the team is able to accurately return the last line of the poem it wrote.\n",
    "\n",
    "Note: You can serialize the state of the team to a file and load it back later."
   ]
  },
  {
   "cell_type": "code",
   "execution_count": null,
   "metadata": {},
   "outputs": [
    {
     "name": "stdout",
     "output_type": "stream",
     "text": [
      "{'state_type': 'BaseTeamState', 'version': '1.0.0', 'agent_names': ['assistant_agent'], 'termination_state': MaxMessageTerminationState(state_type='MaxMessageTerminationState', version='1.0.0', terminated=False, message_count=0, max_messages=2), 'agent_states': {'assistant_agent': AssistantAgentState(state_type='AssistantAgent', version='1.0.0', model_context=[UserMessage(content='Write a beautiful poem 3-line about lake tangayika', source='user'), AssistantMessage(content=\"Whispers of the deep, Tanganyika's embrace,  \\nMirror of stars and time, in tranquil grace,  \\nBoundless tales within its azure face.  \", source='assistant_agent')])}, 'manager_state': BaseGroupChatManagerState(state_type='BaseGroupChatManagerState', version='1.0.0', message_thread=[], current_turn=0)}\n",
      "---------- user ----------\n",
      "What was the last line of the poem you wrote?\n",
      "---------- assistant_agent ----------\n",
      "The last line of the poem I wrote is: \"Boundless tales within its azure face.\"\n",
      "[Prompt tokens: 84, Completion tokens: 19]\n",
      "---------- Summary ----------\n",
      "Number of messages: 2\n",
      "Finish reason: Maximum number of messages 2 reached, current message count: 2\n",
      "Total prompt tokens: 84\n",
      "Total completion tokens: 19\n",
      "Duration: 0.60 seconds\n"
     ]
    },
    {
     "data": {
      "text/plain": [
       "TaskResult(messages=[TextMessage(source='user', models_usage=None, content='What was the last line of the poem you wrote?'), TextMessage(source='assistant_agent', models_usage=RequestUsage(prompt_tokens=84, completion_tokens=19), content='The last line of the poem I wrote is: \"Boundless tales within its azure face.\"')], stop_reason='Maximum number of messages 2 reached, current message count: 2')"
      ]
     },
     "execution_count": 12,
     "metadata": {},
     "output_type": "execute_result"
    }
   ],
   "source": [
    "from autogen_agentchat.state import BaseTeamState\n",
    "\n",
    "# convert team state to dict (save to file if needed)\n",
    "team_state_dict = vars(team_state)\n",
    "print(team_state_dict)      \n",
    "\n",
    "# convert back to team state object\n",
    "team_state = BaseTeamState(**vars(team_state)) \n",
    "\n",
    "# load team state\n",
    "await agent_team.load_state(team_state)\n",
    "stream = agent_team.run_stream(task=\"What was the last line of the poem you wrote?\")\n",
    "await Console(stream)"
   ]
  },
  {
   "cell_type": "code",
   "execution_count": null,
   "metadata": {},
   "outputs": [
    {
     "name": "stdout",
     "output_type": "stream",
     "text": [
      "{'state_type': 'BaseTeamState', 'version': '1.0.0', 'agent_names': ['assistant_agent'], 'termination_state': MaxMessageTerminationState(state_type='MaxMessageTerminationState', version='1.0.0', terminated=False, message_count=0, max_messages=2), 'agent_states': {'assistant_agent': AssistantAgentState(state_type='AssistantAgent', version='1.0.0', model_context=[UserMessage(content='Write a beautiful poem 3-line about lake tangayika', source='user'), AssistantMessage(content=\"Whispers of the deep, Tanganyika's embrace,  \\nMirror of stars and time, in tranquil grace,  \\nBoundless tales within its azure face.  \", source='assistant_agent')])}, 'manager_state': BaseGroupChatManagerState(state_type='BaseGroupChatManagerState', version='1.0.0', message_thread=[], current_turn=0)}\n",
      "BaseTeamState(state_type='BaseTeamState', version='1.0.0', agent_names=['assistant_agent'], termination_state=MaxMessageTerminationState(state_type='MaxMessageTerminationState', version='1.0.0', terminated=False, message_count=0, max_messages=2), agent_states={'assistant_agent': AssistantAgentState(state_type='AssistantAgent', version='1.0.0', model_context=[UserMessage(content='Write a beautiful poem 3-line about lake tangayika', source='user'), AssistantMessage(content=\"Whispers of the deep, Tanganyika's embrace,  \\nMirror of stars and time, in tranquil grace,  \\nBoundless tales within its azure face.  \", source='assistant_agent')])}, manager_state=BaseGroupChatManagerState(state_type='BaseGroupChatManagerState', version='1.0.0', message_thread=[], current_turn=0))\n"
     ]
    }
   ],
   "source": []
  },
  {
   "cell_type": "markdown",
   "metadata": {},
   "source": [
    "## Saving and Loading Termination Conditions\n",
    "\n",
    "We can get the state of a termination condition by calling `save_state` method on the termination condition and load it back by calling `load_state` method on the termination condition. "
   ]
  },
  {
   "cell_type": "code",
   "execution_count": 15,
   "metadata": {},
   "outputs": [
    {
     "name": "stdout",
     "output_type": "stream",
     "text": [
      "OrTerminationState(state_type='OrTerminationState', version='1.0.0', terminated=False, condition_states=[TextMentionTerminationState(state_type='TextMentionTerminationState', version='1.0.0', terminated=False, text='stop'), MaxMessageTerminationState(state_type='MaxMessageTerminationState', version='1.0.0', terminated=False, message_count=0, max_messages=2)])\n"
     ]
    }
   ],
   "source": [
    "max_termination = MaxMessageTermination(max_messages=2)\n",
    "text_termination = TextMentionTermination(text=\"stop\")\n",
    "termination = text_termination | max_termination\n",
    "termination_state = await termination.save_state()\n",
    "print(termination_state)\n",
    "await termination.load_state(termination_state)"
   ]
  }
 ],
 "metadata": {
  "kernelspec": {
   "display_name": "agnext",
   "language": "python",
   "name": "python3"
  },
  "language_info": {
   "codemirror_mode": {
    "name": "ipython",
    "version": 3
   },
   "file_extension": ".py",
   "mimetype": "text/x-python",
   "name": "python",
   "nbconvert_exporter": "python",
   "pygments_lexer": "ipython3",
   "version": "3.11.9"
  }
 },
 "nbformat": 4,
 "nbformat_minor": 2
}
